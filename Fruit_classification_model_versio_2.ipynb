{
 "cells": [
  {
   "cell_type": "code",
   "execution_count": 1,
   "metadata": {},
   "outputs": [],
   "source": [
    "import os\n",
    "import cv2\n",
    "import numpy as np\n",
    "from sklearn.model_selection import train_test_split\n",
    "import tensorflow as tf\n",
    "from tensorflow.keras.layers import Dense , Flatten , Conv2D, MaxPooling2D\n",
    "from tensorflow.keras.preprocessing import image"
   ]
  },
  {
   "cell_type": "code",
   "execution_count": 2,
   "metadata": {},
   "outputs": [],
   "source": [
    "datagen = image.ImageDataGenerator(rescale = 1. / 255,\n",
    "                                  validation_split = 0.2,\n",
    "                                  rotation_range = 20,\n",
    "                                  width_shift_range = 0.2,\n",
    "                                  height_shift_range = 0.2,\n",
    "                                  shear_range = 0.2,\n",
    "                                  zoom_range = 0.2,\n",
    "                                  horizontal_flip = True,\n",
    "                                  fill_mode = 'nearest')"
   ]
  },
  {
   "cell_type": "code",
   "execution_count": 3,
   "metadata": {},
   "outputs": [
    {
     "name": "stdout",
     "output_type": "stream",
     "text": [
      "Found 45852 images belonging to 114 classes.\n"
     ]
    }
   ],
   "source": [
    "pathname = './fruits-360/Training/'\n",
    "train_generator = datagen.flow_from_directory(pathname,\n",
    "                                             target_size = (100,100),\n",
    "                                             batch_size = 45852,\n",
    "                                             subset = 'training',\n",
    "                                             class_mode = 'categorical')"
   ]
  },
  {
   "cell_type": "code",
   "execution_count": 4,
   "metadata": {},
   "outputs": [
    {
     "name": "stdout",
     "output_type": "stream",
     "text": [
      "Found 15689 images belonging to 114 classes.\n"
     ]
    }
   ],
   "source": [
    "pathtotest = './fruits-360/Test/'\n",
    "test_generator = datagen.flow_from_directory(pathtotest,\n",
    "                                             target_size = (100,100),\n",
    "                                             batch_size = 5000,\n",
    "                                             subset = 'training',\n",
    "                                             class_mode = 'categorical')"
   ]
  },
  {
   "cell_type": "code",
   "execution_count": 5,
   "metadata": {},
   "outputs": [],
   "source": [
    "x_train, y_train = next(train_generator)"
   ]
  },
  {
   "cell_type": "code",
   "execution_count": 6,
   "metadata": {},
   "outputs": [],
   "source": [
    "x_test, y_test = next(test_generator)"
   ]
  },
  {
   "cell_type": "code",
   "execution_count": 13,
   "metadata": {},
   "outputs": [
    {
     "name": "stdout",
     "output_type": "stream",
     "text": [
      "45852\n",
      "5000\n"
     ]
    }
   ],
   "source": [
    "print(len(x_train))\n",
    "print(len(x_test))"
   ]
  },
  {
   "cell_type": "code",
   "execution_count": 8,
   "metadata": {},
   "outputs": [
    {
     "data": {
      "text/plain": [
       "114"
      ]
     },
     "execution_count": 8,
     "metadata": {},
     "output_type": "execute_result"
    }
   ],
   "source": [
    "_, num_classes = y_train.shape\n",
    "num_classes"
   ]
  },
  {
   "cell_type": "code",
   "execution_count": 17,
   "metadata": {},
   "outputs": [
    {
     "data": {
      "text/plain": [
       "(45852, 100, 100, 3)"
      ]
     },
     "execution_count": 17,
     "metadata": {},
     "output_type": "execute_result"
    }
   ],
   "source": [
    "x_train.shape"
   ]
  },
  {
   "cell_type": "code",
   "execution_count": 37,
   "metadata": {},
   "outputs": [],
   "source": [
    "model = tf.keras.models.Sequential()\n",
    "\n",
    "model.add(Conv2D(16, kernel_size = (3, 3), activation = 'relu'))\n",
    "model.add(MaxPooling2D(pool_size = (2,2), strides = (2, 2), padding = 'same'))\n",
    "\n",
    "model.add(Conv2D(32, kernel_size = (3, 3), activation = 'relu'))\n",
    "model.add(MaxPooling2D(pool_size = (2,2), strides = (2, 2), padding = 'same'))\n",
    "\n",
    "model.add(Conv2D(48, kernel_size = (3, 3), activation = 'relu'))\n",
    "model.add(MaxPooling2D(pool_size = (2,2), strides = (2, 2), padding = 'same'))\n",
    "\n",
    "model.add(Conv2D(64, kernel_size = (3, 3), activation = 'relu'))\n",
    "model.add(MaxPooling2D(pool_size = (2,2), strides = (2, 2), padding = 'same'))\n",
    "\n",
    "model.add(Conv2D(num_classes, kernel_size = (3, 3), activation = 'relu'))\n",
    "#model.add(MaxPooling2D(pool_size = (2,2), strides = (2, 2), padding = 'same'))\n",
    "\n",
    "\n",
    "\n",
    "model.add(Flatten())\n",
    "\n",
    "model.add(Dense(num_classes, activation='softmax'))\n",
    "\n",
    "model.compile(loss=tf.keras.losses.categorical_crossentropy,\n",
    "              optimizer='adam',\n",
    "              metrics=['accuracy'])\n",
    "\n"
   ]
  },
  {
   "cell_type": "code",
   "execution_count": 38,
   "metadata": {},
   "outputs": [
    {
     "name": "stdout",
     "output_type": "stream",
     "text": [
      "Train on 36681 samples, validate on 9171 samples\n",
      "Epoch 1/10\n",
      "36681/36681 [==============================] - 119s 3ms/sample - loss: 2.0982 - acc: 0.3991 - val_loss: 0.9238 - val_acc: 0.6890\n",
      "Epoch 2/10\n",
      "36681/36681 [==============================] - 104s 3ms/sample - loss: 0.6744 - acc: 0.7744 - val_loss: 0.7769 - val_acc: 0.7471\n",
      "Epoch 3/10\n",
      "36681/36681 [==============================] - 104s 3ms/sample - loss: 0.4017 - acc: 0.8652 - val_loss: 0.3141 - val_acc: 0.8927\n",
      "Epoch 4/10\n",
      "36681/36681 [==============================] - 106s 3ms/sample - loss: 0.2892 - acc: 0.9024 - val_loss: 0.2912 - val_acc: 0.9043\n",
      "Epoch 5/10\n",
      "36681/36681 [==============================] - 105s 3ms/sample - loss: 0.2139 - acc: 0.9254 - val_loss: 0.2357 - val_acc: 0.9126\n",
      "Epoch 6/10\n",
      "36681/36681 [==============================] - 105s 3ms/sample - loss: 0.1904 - acc: 0.9332 - val_loss: 0.2076 - val_acc: 0.9267\n",
      "Epoch 7/10\n",
      "36681/36681 [==============================] - 106s 3ms/sample - loss: 0.1738 - acc: 0.9398 - val_loss: 0.1654 - val_acc: 0.9457\n",
      "Epoch 8/10\n",
      "36681/36681 [==============================] - 105s 3ms/sample - loss: 0.1325 - acc: 0.9531 - val_loss: 0.2018 - val_acc: 0.9301\n",
      "Epoch 9/10\n",
      "36681/36681 [==============================] - 105s 3ms/sample - loss: 0.1480 - acc: 0.9494 - val_loss: 0.1170 - val_acc: 0.9581\n",
      "Epoch 10/10\n",
      "36681/36681 [==============================] - 105s 3ms/sample - loss: 0.0995 - acc: 0.9663 - val_loss: 0.1019 - val_acc: 0.9673\n"
     ]
    },
    {
     "data": {
      "text/plain": [
       "<tensorflow.python.keras.callbacks.History at 0x7f40f757edd8>"
      ]
     },
     "execution_count": 38,
     "metadata": {},
     "output_type": "execute_result"
    }
   ],
   "source": [
    "model.fit(x_train, y_train,\n",
    "          batch_size=128,\n",
    "          epochs=10,\n",
    "          validation_split = 0.2)"
   ]
  },
  {
   "cell_type": "code",
   "execution_count": 39,
   "metadata": {},
   "outputs": [
    {
     "name": "stdout",
     "output_type": "stream",
     "text": [
      "Model: \"sequential_13\"\n",
      "_________________________________________________________________\n",
      "Layer (type)                 Output Shape              Param #   \n",
      "=================================================================\n",
      "conv2d_81 (Conv2D)           multiple                  448       \n",
      "_________________________________________________________________\n",
      "max_pooling2d_72 (MaxPooling multiple                  0         \n",
      "_________________________________________________________________\n",
      "conv2d_82 (Conv2D)           multiple                  4640      \n",
      "_________________________________________________________________\n",
      "max_pooling2d_73 (MaxPooling multiple                  0         \n",
      "_________________________________________________________________\n",
      "conv2d_83 (Conv2D)           multiple                  13872     \n",
      "_________________________________________________________________\n",
      "max_pooling2d_74 (MaxPooling multiple                  0         \n",
      "_________________________________________________________________\n",
      "conv2d_84 (Conv2D)           multiple                  27712     \n",
      "_________________________________________________________________\n",
      "max_pooling2d_75 (MaxPooling multiple                  0         \n",
      "_________________________________________________________________\n",
      "conv2d_85 (Conv2D)           multiple                  65778     \n",
      "_________________________________________________________________\n",
      "flatten_13 (Flatten)         multiple                  0         \n",
      "_________________________________________________________________\n",
      "dense_19 (Dense)             multiple                  117078    \n",
      "=================================================================\n",
      "Total params: 229,528\n",
      "Trainable params: 229,528\n",
      "Non-trainable params: 0\n",
      "_________________________________________________________________\n"
     ]
    }
   ],
   "source": [
    "model.summary()"
   ]
  },
  {
   "cell_type": "code",
   "execution_count": 40,
   "metadata": {},
   "outputs": [],
   "source": [
    "log_dir = \"logs\"\n",
    " \n",
    "tbCallback = tf.keras.callbacks.TensorBoard(log_dir=log_dir, histogram_freq=50,\n",
    "                                            write_graph=True, write_grads=True, batch_size=128,\n",
    "                                            write_images=True)"
   ]
  },
  {
   "cell_type": "code",
   "execution_count": 41,
   "metadata": {},
   "outputs": [
    {
     "name": "stdout",
     "output_type": "stream",
     "text": [
      "5000/5000 [==============================] - 9s 2ms/sample - loss: 0.2663 - acc: 0.9228\n"
     ]
    }
   ],
   "source": [
    "scores = model.evaluate(x_test, y_test, batch_size= 128, verbose=1)"
   ]
  },
  {
   "cell_type": "code",
   "execution_count": 42,
   "metadata": {},
   "outputs": [
    {
     "name": "stdout",
     "output_type": "stream",
     "text": [
      "Found 15689 images belonging to 114 classes.\n"
     ]
    }
   ],
   "source": [
    "pathtotest = './fruits-360/Test/'\n",
    "test_generator = datagen.flow_from_directory(pathtotest,\n",
    "                                             target_size = (100,100),\n",
    "                                             batch_size = 15689,\n",
    "                                             subset = 'training',\n",
    "                                             class_mode = 'categorical')\n"
   ]
  },
  {
   "cell_type": "code",
   "execution_count": 43,
   "metadata": {},
   "outputs": [],
   "source": [
    "x_test2, y_test2 = next(test_generator)"
   ]
  },
  {
   "cell_type": "code",
   "execution_count": 44,
   "metadata": {},
   "outputs": [
    {
     "name": "stdout",
     "output_type": "stream",
     "text": [
      "15689/15689 [==============================] - 63s 4ms/sample - loss: 0.2634 - acc: 0.9277\n"
     ]
    }
   ],
   "source": [
    "scores2 = model.evaluate(x_test2, y_test2, batch_size= 128, verbose=1)"
   ]
  },
  {
   "cell_type": "code",
   "execution_count": null,
   "metadata": {},
   "outputs": [],
   "source": []
  }
 ],
 "metadata": {
  "kernelspec": {
   "display_name": "tensorflow_env",
   "language": "python",
   "name": "tensorflow_env"
  },
  "language_info": {
   "codemirror_mode": {
    "name": "ipython",
    "version": 3
   },
   "file_extension": ".py",
   "mimetype": "text/x-python",
   "name": "python",
   "nbconvert_exporter": "python",
   "pygments_lexer": "ipython3",
   "version": "3.7.3"
  }
 },
 "nbformat": 4,
 "nbformat_minor": 2
}
